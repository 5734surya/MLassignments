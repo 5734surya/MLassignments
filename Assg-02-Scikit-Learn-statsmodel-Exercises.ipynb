{
 "cells": [
  {
   "cell_type": "markdown",
   "metadata": {},
   "source": [
    "# Assignment 02: Scikit Learn Basic Regression and Classification\n",
    "\n",
    "**Due Date:** Friday 9/18/2020 (by 5 pm)\n",
    "\n",
    "\n",
    "## Introduction \n",
    "\n",
    "In this exercise we will be performing a regression and classification task using the Scikit learn framework, and the Python statsmodel library.  You should work through the tutorial on using scikit-learn and statsmodel before doing this assignment, as well as work on the materials from our units on regression and classification tasks.\n",
    "\n",
    "For the first part of this assignment, I recommend looking through the following tutorials on using\n",
    "Scikit Learn and the statsmodel library for linear regression:\n",
    "\n",
    "[A Beginners guide to Linear Regression in Python with Scikit-Learn](https://medium.com/analytics-vidhya/a-beginners-guide-to-linear-regression-in-python-with-scikit-learn-6b0fe70b32d7)\n",
    "\n",
    "\n",
    "[Use statsmodels to Perform Linear Regression in Python](https://datatofish.com/statsmodels-linear-regression/)\n",
    "\n",
    "I am using this material as a reference for the first part of this assignment."
   ]
  },
  {
   "cell_type": "markdown",
   "metadata": {},
   "source": [
    "**Please fill these in before submitting, just in case I accidentally mix up file names while grading**:\n",
    "\n",
    "Name: Prashanth Garlapati\n",
    "\n",
    "CWID-5: 98970"
   ]
  },
  {
   "cell_type": "code",
   "execution_count": 8,
   "metadata": {
    "ExecuteTime": {
     "end_time": "2019-09-30T18:55:15.339855Z",
     "start_time": "2019-09-30T18:55:14.517211Z"
    }
   },
   "outputs": [],
   "source": [
    "import numpy as np\n",
    "import matplotlib.pyplot as plt\n",
    "import pandas as pd\n",
    "import seaborn as sns\n",
    "\n",
    "# By convention, we often just import the specific classes/functions\n",
    "# from scikit-learn we will need to train a model and perform prediction.\n",
    "# Here we include all of the classes and functions you should need for this\n",
    "# assignment from the sklearn library, but there could be other methods you might\n",
    "# want to try or would be useful to the way you approach the problem, so feel free\n",
    "# to import others you might need or want to try\n",
    "from sklearn.linear_model import LinearRegression\n",
    "from sklearn.linear_model import LogisticRegression\n",
    "from sklearn.model_selection import train_test_split\n",
    "from sklearn.metrics import confusion_matrix\n",
    "from sklearn.metrics import precision_recall_curve\n",
    "\n",
    "# statsmodels has an api, it is often imported as sm by convention\n",
    "import statsmodels.api as sm\n",
    "\n",
    "%matplotlib inline"
   ]
  },
  {
   "cell_type": "code",
   "execution_count": 9,
   "metadata": {
    "ExecuteTime": {
     "end_time": "2019-09-30T18:55:15.345630Z",
     "start_time": "2019-09-30T18:55:15.341203Z"
    }
   },
   "outputs": [],
   "source": [
    "plt.rcParams['figure.figsize'] = (10, 8) # set default figure size, 8in by 6in"
   ]
  },
  {
   "cell_type": "markdown",
   "metadata": {},
   "source": [
    "## Linear Regression with One Variable\n",
    "--------\n"
   ]
  },
  {
   "cell_type": "markdown",
   "metadata": {},
   "source": [
    "### Scikit-Learn LinearRegression model\n",
    "\n",
    "Load and plot the profit data of 1 feature from the file named \"../data/assg-02-profit-data.csv\" using Pandas to load in the\n",
    "csv file.  Plot using a basic matplotlib figure the points in the dataset. This data set has profit (y or dependent\n",
    "variable) for a food truck business, specified in 10's of $1000. \n",
    "The profit is the variable we want to predict (the regression variable).\n",
    "Profit is a function of the population size (x or independent variable),\n",
    "which here is expressed in 10000s people (e.g. pupulation 10 = 100,000 people)."
   ]
  },
  {
   "cell_type": "code",
   "execution_count": 10,
   "metadata": {
    "ExecuteTime": {
     "end_time": "2019-09-30T18:55:15.492612Z",
     "start_time": "2019-09-30T18:55:15.347133Z"
    }
   },
   "outputs": [
    {
     "data": {
      "text/html": [
       "<div>\n",
       "<style scoped>\n",
       "    .dataframe tbody tr th:only-of-type {\n",
       "        vertical-align: middle;\n",
       "    }\n",
       "\n",
       "    .dataframe tbody tr th {\n",
       "        vertical-align: top;\n",
       "    }\n",
       "\n",
       "    .dataframe thead th {\n",
       "        text-align: right;\n",
       "    }\n",
       "</style>\n",
       "<table border=\"1\" class=\"dataframe\">\n",
       "  <thead>\n",
       "    <tr style=\"text-align: right;\">\n",
       "      <th></th>\n",
       "      <th>population</th>\n",
       "      <th>profit</th>\n",
       "    </tr>\n",
       "  </thead>\n",
       "  <tbody>\n",
       "    <tr>\n",
       "      <th>0</th>\n",
       "      <td>6.1101</td>\n",
       "      <td>17.5920</td>\n",
       "    </tr>\n",
       "    <tr>\n",
       "      <th>1</th>\n",
       "      <td>5.5277</td>\n",
       "      <td>9.1302</td>\n",
       "    </tr>\n",
       "    <tr>\n",
       "      <th>2</th>\n",
       "      <td>8.5186</td>\n",
       "      <td>13.6620</td>\n",
       "    </tr>\n",
       "    <tr>\n",
       "      <th>3</th>\n",
       "      <td>7.0032</td>\n",
       "      <td>11.8540</td>\n",
       "    </tr>\n",
       "    <tr>\n",
       "      <th>4</th>\n",
       "      <td>5.8598</td>\n",
       "      <td>6.8233</td>\n",
       "    </tr>\n",
       "  </tbody>\n",
       "</table>\n",
       "</div>"
      ],
      "text/plain": [
       "   population   profit\n",
       "0      6.1101  17.5920\n",
       "1      5.5277   9.1302\n",
       "2      8.5186  13.6620\n",
       "3      7.0032  11.8540\n",
       "4      5.8598   6.8233"
      ]
     },
     "execution_count": 10,
     "metadata": {},
     "output_type": "execute_result"
    }
   ],
   "source": [
    "# load the assignment 02 housing price linear regression data here\n",
    "df = pd.read_csv(\"../data/assg-02-profit-data.csv\")\n",
    "df.head()"
   ]
  },
  {
   "cell_type": "code",
   "execution_count": 11,
   "metadata": {
    "ExecuteTime": {
     "end_time": "2019-09-30T18:55:16.041849Z",
     "start_time": "2019-09-30T18:55:15.494074Z"
    }
   },
   "outputs": [
    {
     "data": {
      "image/png": "[encoded data removed]",
      "text/plain": [
       "<Figure size 720x576 with 1 Axes>"
      ]
     },
     "metadata": {
      "needs_background": "light"
     },
     "output_type": "display_data"
    }
   ],
   "source": [
    "# plot the data here, matplotlib example\n",
    "df.plot(kind = 'scatter', x = 'population', y = 'profit')\n",
    "plt.title('Food Truck Business Profit by Population', fontsize = 18)\n",
    "plt.xlabel('Population (Unit: 10,000)', fontsize = 12)\n",
    "plt.ylabel('Profit (Unit: $ 1,000)', fontsize = 12)\n",
    "plt.show()"
   ]
  },
  {
   "cell_type": "markdown",
   "metadata": {},
   "source": [
    "The tutorial shows an example of actually building a regression model where data is held back from the training\n",
    "so that we can evaluate the accuracy of our predictive model.  We will try that next.  First of all,\n",
    "fit a linear regression model to all of the data using the scikit-learn `LinearRegression` object.\n",
    "\n",
    "Once you fit the model, show what the slope and intercept (e.g. the fitted parameters\n",
    "of the model) were that were determined to be the\n",
    "best fit model parameters (intercept and coefficients of the model).  Also use the score function\n",
    "to display the $R^2$ score of the fitted model."
   ]
  },
  {
   "cell_type": "code",
   "execution_count": 12,
   "metadata": {},
   "outputs": [],
   "source": [
    "X = df['population'].values.reshape(-1,1)\n",
    "\n",
    "y = df['profit'].values"
   ]
  },
  {
   "cell_type": "code",
   "execution_count": null,
   "metadata": {},
   "outputs": [],
   "source": []
  },
  {
   "cell_type": "code",
   "execution_count": 13,
   "metadata": {
    "ExecuteTime": {
     "end_time": "2019-09-30T18:55:16.063525Z",
     "start_time": "2019-09-30T18:55:16.045697Z"
    }
   },
   "outputs": [
    {
     "data": {
      "text/plain": [
       "LinearRegression()"
      ]
     },
     "execution_count": 13,
     "metadata": {},
     "output_type": "execute_result"
    }
   ],
   "source": [
    "# fit the linear regression model to all of the data\n",
    "linearregressor = LinearRegression()\n",
    "\n",
    "linearregressor.fit(X,y)"
   ]
  },
  {
   "cell_type": "code",
   "execution_count": 14,
   "metadata": {
    "ExecuteTime": {
     "end_time": "2019-09-30T18:55:16.161813Z",
     "start_time": "2019-09-30T18:55:16.076475Z"
    }
   },
   "outputs": [
    {
     "name": "stdout",
     "output_type": "stream",
     "text": [
      "Intercept is : -3.89578087831185\n",
      "Slope is : [1.19303364]\n"
     ]
    }
   ],
   "source": [
    "# retrieve the intercept and slope\n",
    "print(\"Intercept is :\" , linearregressor.intercept_)\n",
    "print(\"Slope is :\", linearregressor.coef_)"
   ]
  },
  {
   "cell_type": "code",
   "execution_count": 15,
   "metadata": {},
   "outputs": [
    {
     "name": "stdout",
     "output_type": "stream",
     "text": [
      "Score is :  0.7020315537841397\n"
     ]
    }
   ],
   "source": [
    "# use the score() function to display the models R^2 fit\n",
    "print(\"Score is : \", linearregressor.score(X,y))"
   ]
  },
  {
   "cell_type": "markdown",
   "metadata": {},
   "source": [
    "You should compare your intercept and slope you determine here using Scikit Learn with the following.\n",
    "\n",
    "The slope and intercept fitted parameters you should find are:\n",
    "\n",
    "intercept: -3.89578088\n",
    "\n",
    "slope: 1.19303364"
   ]
  },
  {
   "cell_type": "markdown",
   "metadata": {},
   "source": [
    "As shown in the our lecture notebooks, use the predict() method of your Scikit Learn regression model to predict\n",
    "each value of our x data features"
   ]
  },
  {
   "cell_type": "code",
   "execution_count": 16,
   "metadata": {
    "ExecuteTime": {
     "end_time": "2019-09-30T18:55:16.234533Z",
     "start_time": "2019-09-30T18:55:16.162839Z"
    }
   },
   "outputs": [],
   "source": [
    "# using predict() from scikit-learn find the predicted or hypothesized profit for each of the model populations\n",
    "predicted = linearregressor.predict(X)"
   ]
  },
  {
   "cell_type": "markdown",
   "metadata": {},
   "source": [
    "Now we can plot the determined linear fit line given by Scikit Learn to our data"
   ]
  },
  {
   "cell_type": "code",
   "execution_count": 17,
   "metadata": {
    "ExecuteTime": {
     "end_time": "2019-09-30T18:55:16.454971Z",
     "start_time": "2019-09-30T18:55:16.236141Z"
    }
   },
   "outputs": [
    {
     "data": {
      "image/png": "[encoded data removed]",
      "text/plain": [
       "<Figure size 720x576 with 1 Axes>"
      ]
     },
     "metadata": {
      "needs_background": "light"
     },
     "output_type": "display_data"
    }
   ],
   "source": [
    "# plot the fitted line using the predict() method from the LinearRegression object\n",
    "plt.scatter(X, y, color = 'blue', label = 'Profit Data')\n",
    "plt.plot(X, predicted, color = 'green', linewidth = 1, label = 'Linear Fit')\n",
    "plt.title('Food Truck Business Profit by Population', fontsize = 18)\n",
    "plt.xlabel('Population (Unit: 10,000)', fontsize = 12)\n",
    "plt.ylabel('Profit (Unit: $ 1,000)', fontsize = 12)\n",
    "plt.legend()\n",
    "plt.show()"
   ]
  },
  {
   "cell_type": "markdown",
   "metadata": {},
   "source": [
    "### statsmodels Linear Regression\n",
    "\n",
    "In contrast to the scikit-learn library, the python statsmodel library is primarily geared towards doing statistical\n",
    "analysis of data, similar to a stats package like using SPSS or R.  You can perform a linear regression on a data\n",
    "set using the statsmodel package, and get much more information about the goodness of the fit from the\n",
    "constructed model.\n",
    "\n",
    "In the next cell, create a model using statsmodels OLS (ordinary least squared fit) function, fit the model, and use the summary() function\n",
    "to get information about the fit."
   ]
  },
  {
   "cell_type": "code",
   "execution_count": 18,
   "metadata": {
    "ExecuteTime": {
     "end_time": "2019-09-30T18:59:24.669593Z",
     "start_time": "2019-09-30T18:59:24.667528Z"
    }
   },
   "outputs": [],
   "source": [
    "# load the data from our assignment 02 linear regression problem again if needed\n",
    "# copying the data from df since there is no change.\n",
    "df_stats = df.copy()\n",
    "\n",
    "X = df_stats['population'].values.reshape(-1, 1)\n",
    "y = df_stats['profit'].values.reshape(-1, 1)"
   ]
  },
  {
   "cell_type": "markdown",
   "metadata": {},
   "source": [
    "When building a model of data, like a linear regression model, there are terms or parameters that the model\n",
    "fits to the data.   One of these terms is known as the **bias** term.  We will learn more about what this \n",
    "term is in the coming weeks.  \n",
    "\n",
    "The Scikit-learn library assumes you have not represented the bias term in the `X` data that is being fit.\n",
    "But the statsmodel library does not make this assumption.  So there is actually an additional step you\n",
    "need to perform before fitting, which is to add in the constant bias term to the `X` data being fit."
   ]
  },
  {
   "cell_type": "code",
   "execution_count": 19,
   "metadata": {
    "ExecuteTime": {
     "end_time": "2019-09-30T18:55:17.007580Z",
     "start_time": "2019-09-30T18:55:16.921269Z"
    }
   },
   "outputs": [],
   "source": [
    "# unlike for sklearn library, we actually have to add the dummy feature by hand to \n",
    "# represent the intercept feature, it is not assumed automatically by OLS\n",
    "# use the add_constant() method to add a column to represent our intercept coefficient in the model.\n",
    "X = sm.add_constant(X)"
   ]
  },
  {
   "cell_type": "code",
   "execution_count": 20,
   "metadata": {},
   "outputs": [
    {
     "data": {
      "text/plain": [
       "array([-3.89578088,  1.19303364])"
      ]
     },
     "execution_count": 20,
     "metadata": {},
     "output_type": "execute_result"
    }
   ],
   "source": [
    "# use the statsmodels summary method to get a summary of the statistical fit of your linear regression.\n",
    "# Check the fitted parameters to the results from scikit-learn before.\n",
    "ols = sm.OLS(y, X)\n",
    "model = ols.fit()\n",
    "model.params"
   ]
  },
  {
   "cell_type": "code",
   "execution_count": 21,
   "metadata": {},
   "outputs": [
    {
     "data": {
      "text/html": [
       "<table class=\"simpletable\">\n",
       "<caption>OLS Regression Results</caption>\n",
       "<tr>\n",
       "  <th>Dep. Variable:</th>            <td>y</td>        <th>  R-squared:         </th> <td>   0.702</td>\n",
       "</tr>\n",
       "<tr>\n",
       "  <th>Model:</th>                   <td>OLS</td>       <th>  Adj. R-squared:    </th> <td>   0.699</td>\n",
       "</tr>\n",
       "<tr>\n",
       "  <th>Method:</th>             <td>Least Squares</td>  <th>  F-statistic:       </th> <td>   223.8</td>\n",
       "</tr>\n",
       "<tr>\n",
       "  <th>Date:</th>             <td>Thu, 10 Mar 2022</td> <th>  Prob (F-statistic):</th> <td>1.02e-26</td>\n",
       "</tr>\n",
       "<tr>\n",
       "  <th>Time:</th>                 <td>22:29:18</td>     <th>  Log-Likelihood:    </th> <td> -243.95</td>\n",
       "</tr>\n",
       "<tr>\n",
       "  <th>No. Observations:</th>      <td>    97</td>      <th>  AIC:               </th> <td>   491.9</td>\n",
       "</tr>\n",
       "<tr>\n",
       "  <th>Df Residuals:</th>          <td>    95</td>      <th>  BIC:               </th> <td>   497.1</td>\n",
       "</tr>\n",
       "<tr>\n",
       "  <th>Df Model:</th>              <td>     1</td>      <th>                     </th>     <td> </td>   \n",
       "</tr>\n",
       "<tr>\n",
       "  <th>Covariance Type:</th>      <td>nonrobust</td>    <th>                     </th>     <td> </td>   \n",
       "</tr>\n",
       "</table>\n",
       "<table class=\"simpletable\">\n",
       "<tr>\n",
       "    <td></td>       <th>coef</th>     <th>std err</th>      <th>t</th>      <th>P>|t|</th>  <th>[0.025</th>    <th>0.975]</th>  \n",
       "</tr>\n",
       "<tr>\n",
       "  <th>const</th> <td>   -3.8958</td> <td>    0.719</td> <td>   -5.415</td> <td> 0.000</td> <td>   -5.324</td> <td>   -2.467</td>\n",
       "</tr>\n",
       "<tr>\n",
       "  <th>x1</th>    <td>    1.1930</td> <td>    0.080</td> <td>   14.961</td> <td> 0.000</td> <td>    1.035</td> <td>    1.351</td>\n",
       "</tr>\n",
       "</table>\n",
       "<table class=\"simpletable\">\n",
       "<tr>\n",
       "  <th>Omnibus:</th>       <td>39.986</td> <th>  Durbin-Watson:     </th> <td>   0.994</td>\n",
       "</tr>\n",
       "<tr>\n",
       "  <th>Prob(Omnibus):</th> <td> 0.000</td> <th>  Jarque-Bera (JB):  </th> <td> 108.142</td>\n",
       "</tr>\n",
       "<tr>\n",
       "  <th>Skew:</th>          <td> 1.455</td> <th>  Prob(JB):          </th> <td>3.29e-24</td>\n",
       "</tr>\n",
       "<tr>\n",
       "  <th>Kurtosis:</th>      <td> 7.276</td> <th>  Cond. No.          </th> <td>    21.4</td>\n",
       "</tr>\n",
       "</table><br/><br/>Notes:<br/>[1] Standard Errors assume that the covariance matrix of the errors is correctly specified."
      ],
      "text/plain": [
       "<class 'statsmodels.iolib.summary.Summary'>\n",
       "\"\"\"\n",
       "                            OLS Regression Results                            \n",
       "==============================================================================\n",
       "Dep. Variable:                      y   R-squared:                       0.702\n",
       "Model:                            OLS   Adj. R-squared:                  0.699\n",
       "Method:                 Least Squares   F-statistic:                     223.8\n",
       "Date:                Thu, 10 Mar 2022   Prob (F-statistic):           1.02e-26\n",
       "Time:                        22:29:18   Log-Likelihood:                -243.95\n",
       "No. Observations:                  97   AIC:                             491.9\n",
       "Df Residuals:                      95   BIC:                             497.1\n",
       "Df Model:                           1                                         \n",
       "Covariance Type:            nonrobust                                         \n",
       "==============================================================================\n",
       "                 coef    std err          t      P>|t|      [0.025      0.975]\n",
       "------------------------------------------------------------------------------\n",
       "const         -3.8958      0.719     -5.415      0.000      -5.324      -2.467\n",
       "x1             1.1930      0.080     14.961      0.000       1.035       1.351\n",
       "==============================================================================\n",
       "Omnibus:                       39.986   Durbin-Watson:                   0.994\n",
       "Prob(Omnibus):                  0.000   Jarque-Bera (JB):              108.142\n",
       "Skew:                           1.455   Prob(JB):                     3.29e-24\n",
       "Kurtosis:                       7.276   Cond. No.                         21.4\n",
       "==============================================================================\n",
       "\n",
       "Notes:\n",
       "[1] Standard Errors assume that the covariance matrix of the errors is correctly specified.\n",
       "\"\"\""
      ]
     },
     "execution_count": 21,
     "metadata": {},
     "output_type": "execute_result"
    }
   ],
   "source": [
    "model.summary()"
   ]
  },
  {
   "cell_type": "markdown",
   "metadata": {},
   "source": [
    "In the summary you should note that you get the same coefficients (const and x1) as we have determined using \n",
    "scikit-learn previously.  The $R^2$ measure of the fit is also the same\n",
    "as what we got for fitting all of the data for the sklearn model.  \n",
    "\n",
    "The rest of the summary information are some statistical information about how well the model fits\n",
    "the data.  The data in the table under the [0.025 0.975] columns give a 95% confidence interval for\n",
    "the coefficients.  For example from the measure of the noise and fit we are 95% confident that the true\n",
    "coefficient for the x1 parameter (the slope of the line) is somewhere between 1.035 and 1.351.  The P>|t| measure is also\n",
    "important here.  This is a P-value that measure how surprised we would be to see this fit if there was\n",
    "actually no linear relationship between the independent variable and the dependent variable.  Both of these\n",
    "measures are basically 0, which means we would be very surprised to see this fit if there was no linear\n",
    "relationship between the features and the dependent variable.  When the P value here is large (usually\n",
    "a cutoff of 0.05 is used), then that means we are not so surprised to see the result if there was no\n",
    "linear relationship.\n"
   ]
  },
  {
   "cell_type": "markdown",
   "metadata": {},
   "source": [
    "## Logistic Regression for a Binary Classifier\n",
    "------"
   ]
  },
  {
   "cell_type": "markdown",
   "metadata": {},
   "source": [
    "### scikit-learn LogisticRegression model\n",
    "\n",
    "Load and plot the exam score data with binary class labels of accepted/not accepted.\n",
    "This data is found in a file named \"../data/assg-02-exam-data.csv\". Plot the data using\n",
    "a standard Matplotlib scatter plot to visualize it.  This data set has 2 exam scores (exam1 and exam2),\n",
    "for a number of students, and a binary category for each student of whether they were admitted\n",
    "or not to a university degree program.\n",
    "\n",
    "[Logistic Regression using Python (scikit-learn)](https://towardsdatascience.com/logistic-regression-using-python-sklearn-numpy-mnist-handwriting-recognition-matplotlib-a6b31e2b166a)\n",
    "\n",
    "[Logistic Regression in Python Using statsmodels](http://blog.yhat.com/posts/logistic-regression-python-rodeo.html)"
   ]
  },
  {
   "cell_type": "code",
   "execution_count": 22,
   "metadata": {
    "ExecuteTime": {
     "end_time": "2019-09-30T18:55:17.084219Z",
     "start_time": "2019-09-30T18:55:17.014377Z"
    }
   },
   "outputs": [
    {
     "name": "stdout",
     "output_type": "stream",
     "text": [
      "(100, 3)\n",
      "<class 'pandas.core.frame.DataFrame'>\n",
      "RangeIndex: 100 entries, 0 to 99\n",
      "Data columns (total 3 columns):\n",
      " #   Column     Non-Null Count  Dtype  \n",
      "---  ------     --------------  -----  \n",
      " 0   exam1      100 non-null    float64\n",
      " 1   exam2      100 non-null    float64\n",
      " 2   admission  100 non-null    int64  \n",
      "dtypes: float64(2), int64(1)\n",
      "memory usage: 2.5 KB\n"
     ]
    },
    {
     "data": {
      "text/html": [
       "<div>\n",
       "<style scoped>\n",
       "    .dataframe tbody tr th:only-of-type {\n",
       "        vertical-align: middle;\n",
       "    }\n",
       "\n",
       "    .dataframe tbody tr th {\n",
       "        vertical-align: top;\n",
       "    }\n",
       "\n",
       "    .dataframe thead th {\n",
       "        text-align: right;\n",
       "    }\n",
       "</style>\n",
       "<table border=\"1\" class=\"dataframe\">\n",
       "  <thead>\n",
       "    <tr style=\"text-align: right;\">\n",
       "      <th></th>\n",
       "      <th>exam1</th>\n",
       "      <th>exam2</th>\n",
       "      <th>admission</th>\n",
       "    </tr>\n",
       "  </thead>\n",
       "  <tbody>\n",
       "    <tr>\n",
       "      <th>count</th>\n",
       "      <td>100.000000</td>\n",
       "      <td>100.000000</td>\n",
       "      <td>100.000000</td>\n",
       "    </tr>\n",
       "    <tr>\n",
       "      <th>mean</th>\n",
       "      <td>65.644274</td>\n",
       "      <td>66.221998</td>\n",
       "      <td>0.600000</td>\n",
       "    </tr>\n",
       "    <tr>\n",
       "      <th>std</th>\n",
       "      <td>19.458222</td>\n",
       "      <td>18.582783</td>\n",
       "      <td>0.492366</td>\n",
       "    </tr>\n",
       "    <tr>\n",
       "      <th>min</th>\n",
       "      <td>30.058822</td>\n",
       "      <td>30.603263</td>\n",
       "      <td>0.000000</td>\n",
       "    </tr>\n",
       "    <tr>\n",
       "      <th>25%</th>\n",
       "      <td>50.919511</td>\n",
       "      <td>48.179205</td>\n",
       "      <td>0.000000</td>\n",
       "    </tr>\n",
       "    <tr>\n",
       "      <th>50%</th>\n",
       "      <td>67.032988</td>\n",
       "      <td>67.682381</td>\n",
       "      <td>1.000000</td>\n",
       "    </tr>\n",
       "    <tr>\n",
       "      <th>75%</th>\n",
       "      <td>80.212529</td>\n",
       "      <td>79.360605</td>\n",
       "      <td>1.000000</td>\n",
       "    </tr>\n",
       "    <tr>\n",
       "      <th>max</th>\n",
       "      <td>99.827858</td>\n",
       "      <td>98.869436</td>\n",
       "      <td>1.000000</td>\n",
       "    </tr>\n",
       "  </tbody>\n",
       "</table>\n",
       "</div>"
      ],
      "text/plain": [
       "            exam1       exam2   admission\n",
       "count  100.000000  100.000000  100.000000\n",
       "mean    65.644274   66.221998    0.600000\n",
       "std     19.458222   18.582783    0.492366\n",
       "min     30.058822   30.603263    0.000000\n",
       "25%     50.919511   48.179205    0.000000\n",
       "50%     67.032988   67.682381    1.000000\n",
       "75%     80.212529   79.360605    1.000000\n",
       "max     99.827858   98.869436    1.000000"
      ]
     },
     "execution_count": 22,
     "metadata": {},
     "output_type": "execute_result"
    }
   ],
   "source": [
    "# load the data for the logistic classification problem here\n",
    "df_score = pd.read_csv('../data/assg-02-exam-data.csv', names=[\"exam1\", \"exam2\", \"admission\"])\n",
    "print(df_score.shape)\n",
    "df_score.info()\n",
    "df_score.describe()"
   ]
  },
  {
   "cell_type": "code",
   "execution_count": 28,
   "metadata": {
    "ExecuteTime": {
     "end_time": "2019-09-30T18:55:17.420043Z",
     "start_time": "2019-09-30T18:55:17.085204Z"
    }
   },
   "outputs": [
    {
     "data": {
      "image/png": "[encoded data removed]",
      "text/plain": [
       "<Figure size 720x576 with 1 Axes>"
      ]
     },
     "metadata": {
      "needs_background": "light"
     },
     "output_type": "display_data"
    }
   ],
   "source": [
    "# replot the exam1/exam2 data indicating the binary categories using marker type again here for reference\n",
    "fig = plt.figure()\n",
    "ax = fig.add_subplot()\n",
    "\n",
    "# plot not admitted students first\n",
    "ax.scatter(df_score.exam1[df_score.admission == 0], df_score.exam2[df_score.admission == 0], c='y', marker ='o', label = 'Not Admitted')\n",
    "\n",
    "# plot the admitted students\n",
    "ax.scatter(df_score.exam1[df_score.admission == 1], df_score.exam2[df_score.admission == 1], c='b', marker ='+', label = 'Admitted')\n",
    "\n",
    "plt.title('Exam Scores', fontsize = 18)\n",
    "plt.xlabel('Exam 1', fontsize = 12)\n",
    "plt.ylabel('Exam 2', fontsize = 12)\n",
    "plt.legend()\n",
    "plt.show()"
   ]
  },
  {
   "cell_type": "markdown",
   "metadata": {},
   "source": [
    "Now we will use Scikit Learn to fit a model again, but of course we will fit a binary logistic regression classifier\n",
    "to our data to find the best decision boundary between the two classes.\n",
    "\n",
    "In the next cell, create the Scikit Learn logistic regression model and fit it to our data."
   ]
  },
  {
   "cell_type": "code",
   "execution_count": 29,
   "metadata": {
    "ExecuteTime": {
     "end_time": "2019-09-30T18:55:17.431356Z",
     "start_time": "2019-09-30T18:55:17.421301Z"
    }
   },
   "outputs": [
    {
     "data": {
      "text/plain": [
       "LogisticRegression()"
      ]
     },
     "execution_count": 29,
     "metadata": {},
     "output_type": "execute_result"
    }
   ],
   "source": [
    "X = df_score[['exam1', 'exam2']]\n",
    "y = df_score['admission']\n",
    "\n",
    "# train_features, test_features, train_labels, test_labels = train_test_split(features, labels, test_size = 0.2, random_state = 0)\n",
    "\n",
    "# Create the scikit-learn LogisticRegression instance here\n",
    "model = LogisticRegression()\n",
    "# and fit your model to the college acceptance using exam scores data here\n",
    "model.fit(X, y)"
   ]
  },
  {
   "cell_type": "markdown",
   "metadata": {},
   "source": [
    "For a binary classifier with 2 features like this, there are 3 parameters in the model,\n",
    "the intercept, and the parameters for exam1 and exam2 that were fit to define the decision boundary.\n",
    "\n",
    "You should get close to the following parameters, where the first\n",
    "parameter is the intercept, and the second and third are the theta parameters fit for the exam1 and exam2\n",
    "feature respectively:\n",
    "\n",
    "[-25.05219314   0.20535491   0.2005838 ]\n",
    "\n",
    "In the model returned by Scikit Learn, the intercept_ should correspond and match the intercept value,\n",
    "and the coef_ should match the exam1 and exam2 coefficient parameters."
   ]
  },
  {
   "cell_type": "code",
   "execution_count": 30,
   "metadata": {
    "ExecuteTime": {
     "end_time": "2019-09-30T18:55:17.496138Z",
     "start_time": "2019-09-30T18:55:17.434016Z"
    }
   },
   "outputs": [
    {
     "name": "stdout",
     "output_type": "stream",
     "text": [
      "coefficients for the exam1 and exam2: [[0.20535491 0.2005838 ]]\n",
      "intercept: [-25.05219314]\n"
     ]
    }
   ],
   "source": [
    "# display the intercept and the model coefficients for the exam1 and exam2 feature here\n",
    "W, b = model.coef_, model.intercept_\n",
    "\n",
    "print(\"coefficients for the exam1 and exam2:\", W)\n",
    "print(\"intercept:\", b)"
   ]
  },
  {
   "cell_type": "markdown",
   "metadata": {},
   "source": [
    "The parameters in this case might not exactly match because of the differences in the optimization meta-parameters, but\n",
    "they will be close and essentially form almost the same decision boundary.\n",
    "\n",
    "As we did in the example lectures this week, for a 2 parameter set of data we can use the intercept and coefficients to\n",
    "visualize the decision boundary specified by the fitted logistic regression model."
   ]
  },
  {
   "cell_type": "code",
   "execution_count": 32,
   "metadata": {
    "ExecuteTime": {
     "end_time": "2019-09-30T18:55:17.797599Z",
     "start_time": "2019-09-30T18:55:17.497343Z"
    }
   },
   "outputs": [
    {
     "data": {
      "image/png": "[encoded data removed]",
      "text/plain": [
       "<Figure size 720x576 with 1 Axes>"
      ]
     },
     "metadata": {
      "needs_background": "light"
     },
     "output_type": "display_data"
    }
   ],
   "source": [
    "# plot the decision boundary line found by the scikit-learn logistic classification\n",
    "fig = plt.figure()\n",
    "ax1 = fig.add_subplot()\n",
    "ax1.scatter(df_score.exam1[df_score.admission == 0], df_score.exam2[df_score.admission == 0], c='y', marker ='o', label = 'Not Admitted')\n",
    "ax1.scatter(df_score.exam1[df_score.admission == 1], df_score.exam2[df_score.admission == 1], c='b', marker ='x', label = 'Admitted')\n",
    "plt.title('Exam Scores', fontsize = 18)\n",
    "plt.xlabel('Exam 1', fontsize = 12)\n",
    "plt.ylabel('Exam 2', fontsize = 12)\n",
    "ax2 = plt.gca()\n",
    "xvals = np.array(ax2.get_xlim())\n",
    "yvals = -(xvals * W[0][0] + b)/W[0][1]\n",
    "plt.plot(xvals, yvals, color ='r', label = 'Decision Boundary Line')\n",
    "plt.legend()\n",
    "plt.show()\n"
   ]
  },
  {
   "cell_type": "markdown",
   "metadata": {},
   "source": [
    "Then finally, as we showed in our lecture materials from chapter 3, calculate the confusion matrix results of your trained classifier\n",
    "on the training data.  Also plot the precision and recall scores, using either two separate lines, one for each, or plot the precision vs. recall against\n",
    "one another.  We showed both in our lecture and textbook readings for this week."
   ]
  },
  {
   "cell_type": "code",
   "execution_count": 33,
   "metadata": {},
   "outputs": [
    {
     "name": "stdout",
     "output_type": "stream",
     "text": [
      "accuracy: 0.89\n",
      "confusion matrix:\n",
      "[[34  6]\n",
      " [ 5 55]]\n"
     ]
    },
    {
     "data": {
      "image/png": "[encoded data removed]",
      "text/plain": [
       "<Figure size 576x576 with 2 Axes>"
      ]
     },
     "metadata": {
      "needs_background": "light"
     },
     "output_type": "display_data"
    }
   ],
   "source": [
    "from sklearn.metrics import confusion_matrix\n",
    "\n",
    "# calculate predictions for the x inputs\n",
    "predict = model.predict(X)\n",
    "lg_score = model.score(X, y)\n",
    "print('accuracy:', lg_score)\n",
    "\n",
    "# display the confusion matrix\n",
    "cf_matrix = confusion_matrix(y, predict)\n",
    "print(\"confusion matrix:\")\n",
    "print(cf_matrix)\n",
    "\n",
    "# plot the confusion matrix\n",
    "plt.figure(figsize=(8,8))\n",
    "sns.heatmap(cf_matrix, annot=True, fmt=\".0f\", square=True)\n",
    "plt.ylabel('Actual label');\n",
    "plt.xlabel('Predicted label');\n",
    "title = 'Accuracy Score: %0.2f' % lg_score\n",
    "plt.title(title, size=15);\n"
   ]
  },
  {
   "cell_type": "code",
   "execution_count": 34,
   "metadata": {},
   "outputs": [],
   "source": [
    "\n",
    "# get the decision scores\n",
    "y_score = model.decision_function(X)\n",
    "\n",
    "# calculate precision and recall \n",
    "precisions, recalls, thresholds = precision_recall_curve(y, y_score)"
   ]
  },
  {
   "cell_type": "code",
   "execution_count": 35,
   "metadata": {},
   "outputs": [
    {
     "data": {
      "image/png": "[encoded data removed]",
      "text/plain": [
       "<Figure size 720x576 with 1 Axes>"
      ]
     },
     "metadata": {
      "needs_background": "light"
     },
     "output_type": "display_data"
    }
   ],
   "source": [
    "# plot precision and recall curves\n",
    "from sklearn.metrics import plot_precision_recall_curve\n",
    "from sklearn.metrics import average_precision_score\n",
    "\n",
    "average_precision = average_precision_score(y, y_score)\n",
    "p_c = plot_precision_recall_curve(model, X, y)\n",
    "p_c.ax_.set_title('Precision-Recall curve: AP={0:0.2f}'.format(average_precision), size = 16)\n",
    "plt.grid(True)"
   ]
  },
  {
   "cell_type": "markdown",
   "metadata": {},
   "source": [
    "### statsmodels Logistic Regression\n",
    "\n",
    "Likewise use the statsmodels library to redo the Logistic Regression classification of the adming/not admit\n",
    "data set once again.  In the following cells, load the data, add in the constant column needed by statsmodels\n",
    "to fit the model using the intercept parameter, then create an instance and fit the model, and show a summary\n",
    "of your logistic regression results."
   ]
  },
  {
   "cell_type": "code",
   "execution_count": null,
   "metadata": {
    "ExecuteTime": {
     "end_time": "2019-09-30T18:55:18.471417Z",
     "start_time": "2019-09-30T18:55:18.462004Z"
    }
   },
   "outputs": [],
   "source": [
    "# get fresh reload of the data if needed here to ensure you have correct starting values of the assignment 03\n",
    "# classification data\n",
    "df_score_stats = pd.read_csv('../data/assg-02-exam-data.csv', names=[\"exam1\", \"exam2\", \"admission\"])\n",
    "features_stats = df_score_stats[['exam1', 'exam2']]\n",
    "y = df_score_stats['admission']"
   ]
  },
  {
   "cell_type": "code",
   "execution_count": null,
   "metadata": {
    "ExecuteTime": {
     "end_time": "2019-09-30T18:55:18.558596Z",
     "start_time": "2019-09-30T18:55:18.472761Z"
    }
   },
   "outputs": [],
   "source": [
    "# unlike for sklearn library, we actually have to add the dummy feature by hand to \n",
    "# represent the intercept feature, it is not assumed automatically by OLS\n",
    "# make sure you add the intercept feature column here before fitting the model.\n",
    "X = sm.add_constant(features_stats)"
   ]
  },
  {
   "cell_type": "code",
   "execution_count": null,
   "metadata": {},
   "outputs": [],
   "source": [
    "# create an instance of the statsmodel Logit model (you don't need MNLogit here since this is\n",
    "# a binary classification task).\n",
    "# fit your model to get a statsmodel model fit wrapper\n",
    "logit = sm.Logit(y, X)\n",
    "model = logit.fit(method='newton')\n",
    "model.params"
   ]
  },
  {
   "cell_type": "code",
   "execution_count": null,
   "metadata": {},
   "outputs": [],
   "source": [
    "# display a summary of the fit of your classifier.  You might want to compare your intercept and\n",
    "# fitted coefficients again, though this time they probably won't match.\n",
    "# HINT: if you want them to match, try turning off the penality for scikit-learn.  It adds \n",
    "# a regularization penality by default, which we will learn about later in the course.\n",
    "model.summary()"
   ]
  },
  {
   "cell_type": "markdown",
   "metadata": {},
   "source": [
    "As mentioned, by default the statsmodel logistic regression will add no regularization penality.  We will \n",
    "discuss regularizing ML models in the coming weeks.  Adding regularization to get a more general model is not\n",
    "a normal sort of activity one does when performing statistical analysis, so it is not an easily\n",
    "specified parameter of statsmodel objects.  But when building ML models to classify new unseen data, it \n",
    "is important to try and make the model as general and robust as possible."
   ]
  },
  {
   "cell_type": "code",
   "execution_count": null,
   "metadata": {},
   "outputs": [],
   "source": []
  }
 ],
 "metadata": {
  "kernelspec": {
   "display_name": "Python 3 (ipykernel)",
   "language": "python",
   "name": "python3"
  },
  "language_info": {
   "codemirror_mode": {
    "name": "ipython",
    "version": 3
   },
   "file_extension": ".py",
   "mimetype": "text/x-python",
   "name": "python",
   "nbconvert_exporter": "python",
   "pygments_lexer": "ipython3",
   "version": "3.9.7"
  },
  "latex_envs": {
   "LaTeX_envs_menu_present": true,
   "autoclose": true,
   "autocomplete": true,
   "bibliofile": "biblio.bib",
   "cite_by": "apalike",
   "current_citInitial": 1,
   "eqLabelWithNumbers": true,
   "eqNumInitial": 1,
   "hotkeys": {
    "equation": "Ctrl-E",
    "itemize": "Ctrl-I"
   },
   "labels_anchors": false,
   "latex_user_defs": false,
   "report_style_numbering": false,
   "user_envs_cfg": false
  },
  "toc": {
   "base_numbering": 1,
   "nav_menu": {},
   "number_sections": true,
   "sideBar": true,
   "skip_h1_title": false,
   "title_cell": "Table of Contents",
   "title_sidebar": "Contents",
   "toc_cell": false,
   "toc_position": {},
   "toc_section_display": true,
   "toc_window_display": true
  },
  "varInspector": {
   "cols": {
    "lenName": 16,
    "lenType": 16,
    "lenVar": 40
   },
   "kernels_config": {
    "python": {
     "delete_cmd_postfix": "",
     "delete_cmd_prefix": "del ",
     "library": "var_list.py",
     "varRefreshCmd": "print(var_dic_list())"
    },
    "r": {
     "delete_cmd_postfix": ") ",
     "delete_cmd_prefix": "rm(",
     "library": "var_list.r",
     "varRefreshCmd": "cat(var_dic_list()) "
    }
   },
   "types_to_exclude": [
    "module",
    "function",
    "builtin_function_or_method",
    "instance",
    "_Feature"
   ],
   "window_display": false
  }
 },
 "nbformat": 4,
 "nbformat_minor": 4
}
